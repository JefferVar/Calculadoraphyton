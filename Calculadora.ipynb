{
  "nbformat": 4,
  "nbformat_minor": 0,
  "metadata": {
    "colab": {
      "provenance": [],
      "authorship_tag": "ABX9TyPJt059v49YHktkc4Iy4olT",
      "include_colab_link": true
    },
    "kernelspec": {
      "name": "python3",
      "display_name": "Python 3"
    },
    "language_info": {
      "name": "python"
    }
  },
  "cells": [
    {
      "cell_type": "markdown",
      "metadata": {
        "id": "view-in-github",
        "colab_type": "text"
      },
      "source": [
        "<a href=\"https://colab.research.google.com/github/JefferVar/Calculadoraphyton/blob/main/Calculadora.ipynb\" target=\"_parent\"><img src=\"https://colab.research.google.com/assets/colab-badge.svg\" alt=\"Open In Colab\"/></a>"
      ]
    },
    {
      "cell_type": "code",
      "execution_count": null,
      "metadata": {
        "id": "cj3c5c5jrUvE"
      },
      "outputs": [],
      "source": [
        "# 📌 Calculadora Colaborativa en Jupyter Notebook\n",
        "\n",
        "print(\"Bienvenido a la calculadora colaborativa\")\n",
        "\n",
        "# Aquí se agregarán las funciones de los estudiantes"
      ]
    }
  ]
}